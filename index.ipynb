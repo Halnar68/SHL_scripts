{
 "metadata": {
  "name": "",
  "signature": "sha256:e3dbab9af39f66213a8bfa84f21fadeae7dd20efd8d775a6468a0cc17f36d6a2"
 },
 "nbformat": 3,
 "nbformat_minor": 0,
 "worksheets": [
  {
   "cells": [
    {
     "cell_type": "code",
     "collapsed": false,
     "input": [
      "%load README.md"
     ],
     "language": "python",
     "metadata": {},
     "outputs": [],
     "prompt_number": 1
    },
    {
     "cell_type": "markdown",
     "metadata": {},
     "source": [
      "Reproducible research : Python implementation of SparseHebbianLearning\n",
      "======================================================================\n",
      "\n",
      "![Animation of the formation of RFs during aSSC learning.]\n",
      "(http://invibe.net/cgi-bin/index.cgi/SparseHebbianLearning?action=AttachFile&do=get&target=ssc.gif)\n",
      "\n",
      "This piece of code is distributed under the terms of the GNU General Public License (GPL), check http://www.gnu.org/copyleft/gpl.html if you have not red the term of the license yet.\n",
      "\n",
      "*  (!)  tl;dr : [Download the code](https://github.com/meduz/SHL_scripts/archive/master.zip). Or directly from the command-line, do\n",
      "\n",
      "```\n",
      "wget https://github.com/meduz/SHL_scripts/archive/master.zip\n",
      "unzip master.zip -d SHL_scripts\n",
      "cd SHL_scripts/\n",
      "python learn.py\n",
      "```\n",
      "\n",
      "Object\n",
      "------\n",
      "\n",
      "* This is a collection of python scripts to test learning strategies to efficiently code natural image patches.  This is here restricted  to the framework of the !SparseNet algorithm  from Bruno Olshausen.\n",
      "\n",
      "* this has been published as Perrinet, Neural Computation (2010) (see  http://invibe.net/LaurentPerrinet/Publications/Perrinet10shl ):\n",
      "\n",
      "```\n",
      "@article{Perrinet10shl,\n",
      "    Author = {Perrinet, Laurent U.},\n",
      "    Doi = {10.1162/neco.2010.05-08-795},\n",
      "    Journal = {Neural Computation},\n",
      "    Keywords = {Neural population coding, Unsupervised learning, Statistics of natural images, Simple cell receptive fields, Sparse Hebbian Learning, Adaptive Matching Pursuit, Cooperative Homeostasis, Competition-Optimized Matching Pursuit},\n",
      "    Month = {July},\n",
      "    Number = {7},\n",
      "    Title = {Role of homeostasis in learning sparse representations},\n",
      "    Url = {http://invibe.net/LaurentPerrinet/Publications/Perrinet10shl},\n",
      "    Volume = {22},\n",
      "    Year = {2010},\n",
      "    Annote = {Posted Online March 17, 2010.},\n",
      "}\n",
      "```\n",
      "\n",
      "* all comments and bug corrections should be submitted to Laurent Perrinet at Laurent.Perrinet@gmail.com\n",
      "* find out updates on http://invibe.net/LaurentPerrinet/SparseHebbianLearning\n",
      "\n",
      "Get Ready!\n",
      "----------\n",
      "\n",
      " Be sure to have :\n",
      "\n",
      "* a computer (tested on Mac, Linux) with ``python`` + ``numpy`` (on macosx, you may consider using [HomeBrew](https://github.com/meduz/dotfiles/blob/master/init/osx_brew_python.sh),\n",
      "* grab the sources from the [Download the code](https://github.com/meduz/SHL_scripts/archive/master.zip),\n",
      "* These scripts should be platform independent, however, there is a heavy bias toward unix users when generating figures.\n",
      "\n",
      "Contents\n",
      "--------\n",
      "\n",
      "\n",
      " * ``README.md`` : this file\n",
      " * ``learn.py`` : the scripts (see Contents.m  for a script pointing to the different experiments)\n",
      " * ``ssc.py`` : the individual experiments\n",
      " * ``IMAGES_sparsenet.mat`` : the image files (if absent, they get automagically downloaded from [this link](http://invibe.net/LaurentPerrinet/SparseHebbianLearning?action=AttachFile|this page).\n",
      "* ``matlab_code`` : some obsolete matlab code\n",
      "\n",
      "\n",
      "Some useful code tidbits\n",
      "------------------------\n",
      "\n",
      "* get the code with CLI  ``\n",
      "wget https://github.com/meduz/SHL_scripts/archive/master.zip\n",
      "``.\n",
      "* decompress  ``\n",
      "unzip master.zip -d SHL_scripts\n",
      "``\n",
      "* get to the code ``\n",
      "cd SHL_scripts\n",
      "``\n",
      "\n",
      "* run the main script ``\n",
      "python learn.py\n",
      "``\n",
      "\n",
      "* remove SSC related files to start over ``\n",
      "rm -f IMAGES_*.mat.pdf *.hdf5\n",
      "``\n",
      "\n",
      "Changelog\n",
      "---------\n",
      "* 1.1 : 14-06-18\n",
      "  * documentation\n",
      "  * dropped Matlab support\n",
      "\n",
      "* 1.0 : initial release, 27-Oct-2011\n",
      "\n",
      "TODO\n",
      "----\n",
      "\n",
      " * integrate to [MDP, the Modular toolkit for Data Processing](http://mdp-toolkit.sourceforge.net/).\n"
     ]
    },
    {
     "cell_type": "markdown",
     "metadata": {},
     "source": [
      "How does it work?\n",
      "================="
     ]
    },
    {
     "cell_type": "markdown",
     "metadata": {},
     "source": [
      "Results\n",
      "======="
     ]
    },
    {
     "cell_type": "markdown",
     "metadata": {},
     "source": [
      "More methods\n",
      "============"
     ]
    },
    {
     "cell_type": "markdown",
     "metadata": {},
     "source": [
      "This documentation is written as a single file notebook. \n",
      "Latest developpment is hosted on [github](https://github.com/meduz/SHL_scripts)."
     ]
    },
    {
     "cell_type": "code",
     "collapsed": false,
     "input": [
      "! ipython nbconvert index.ipynb"
     ],
     "language": "python",
     "metadata": {},
     "outputs": [
      {
       "output_type": "stream",
       "stream": "stdout",
       "text": [
        "[NbConvertApp] Using existing profile dir: u'/Users/lolo/.ipython/profile_default'\r\n"
       ]
      },
      {
       "output_type": "stream",
       "stream": "stdout",
       "text": [
        "[NbConvertApp] Converting notebook index.ipynb to html\r\n",
        "[NbConvertApp] Support files will be in index_files/\r\n",
        "[NbConvertApp] Loaded template full.tpl\r\n"
       ]
      },
      {
       "output_type": "stream",
       "stream": "stdout",
       "text": [
        "[NbConvertApp] Writing 190192 bytes to index.html\r\n"
       ]
      }
     ],
     "prompt_number": 3
    },
    {
     "cell_type": "code",
     "collapsed": false,
     "input": [
      "! git s"
     ],
     "language": "python",
     "metadata": {},
     "outputs": [
      {
       "output_type": "stream",
       "stream": "stdout",
       "text": [
        " \u001b[32mM\u001b[m README.md\r\n",
        "\u001b[36m??\u001b[m .ipynb_checkpoints/\r\n",
        "\u001b[36m??\u001b[m data/IMAGES_icabench_decorr.mat\r\n",
        "\u001b[36m??\u001b[m data/IMAGES_sparsenet.mat\r\n",
        "\u001b[36m??\u001b[m data/icabench_decorr.hdf5\r\n",
        "\u001b[36m??\u001b[m data/sparsenet.hdf5\r\n",
        "\u001b[36m??\u001b[m index.html\r\n",
        "\u001b[36m??\u001b[m index.ipynb\r\n",
        "\u001b[36m??\u001b[m results/IMAGES_sparsenet.mat.pdf\r\n",
        "\u001b[36m??\u001b[m results/IMAGES_sparsenet.mat_L0vsSE.pdf\r\n"
       ]
      }
     ],
     "prompt_number": 4
    },
    {
     "cell_type": "code",
     "collapsed": false,
     "input": [
      "%%writefile .gitignore\n",
      "index_files\n",
      "data\n",
      "results"
     ],
     "language": "python",
     "metadata": {},
     "outputs": [
      {
       "output_type": "stream",
       "stream": "stdout",
       "text": [
        "Writing .gitignore\n"
       ]
      }
     ],
     "prompt_number": 6
    },
    {
     "cell_type": "code",
     "collapsed": false,
     "input": [
      "!git d"
     ],
     "language": "python",
     "metadata": {},
     "outputs": [
      {
       "output_type": "stream",
       "stream": "stdout",
       "text": [
        "\u001b[H\u001b[2J"
       ]
      },
      {
       "output_type": "stream",
       "stream": "stdout",
       "text": [
        " README.md | 4 \u001b[1;32m++\u001b[m\u001b[1;31m--\u001b[m\r\n",
        " 1 file changed, 2 insertions(+), 2 deletions(-)\r\n",
        "\r\n",
        "\u001b[1;33mdiff --git a/README.md b/README.md\u001b[m\r\n",
        "\u001b[1;33mindex 03af454..34766fd 100644\u001b[m\r\n",
        "\u001b[1;33m--- a/README.md\u001b[m\r\n",
        "\u001b[1;33m+++ b/README.md\u001b[m\r\n",
        "\u001b[1;35m@@ -18,11 +18,11 @@\u001b[m \u001b[mpython learn.py\u001b[m\r\n",
        " Object\u001b[m\r\n",
        " ------\u001b[m\r\n",
        " \u001b[m\r\n",
        "\u001b[1;31m-* This is a collection of python scripts to test learning strategies to efficiently code natural image patches.  This is here restricted  to the framework of the !SparseNet algorithm  from Bruno Olshausen.\u001b[m\r\n",
        "\u001b[1;32m+\u001b[m\u001b[1;32m* This is a collection of python scripts to test learning strategies to efficiently code natural image patches.  This is here restricted  to the framework of the [SparseNet algorithm from Bruno Olshausen](http://redwood.berkeley.edu/bruno/sparsenet/).\u001b[m\r\n",
        " \u001b[m\r\n",
        " * this has been published as Perrinet, Neural Computation (2010) (see  http://invibe.net/LaurentPerrinet/Publications/Perrinet10shl ):\u001b[m\r\n",
        " \u001b[m\r\n",
        "\u001b[1;31m-```\u001b[m\r\n",
        "\u001b[1;32m+\u001b[m\u001b[1;32m```bibtex\u001b[m\r\n",
        " @article{Perrinet10shl,\u001b[m\r\n",
        "     Author = {Perrinet, Laurent U.},\u001b[m\r\n",
        "     Doi = {10.1162/neco.2010.05-08-795},\u001b[m\r\n"
       ]
      }
     ],
     "prompt_number": 7
    },
    {
     "cell_type": "code",
     "collapsed": false,
     "input": [],
     "language": "python",
     "metadata": {},
     "outputs": []
    }
   ],
   "metadata": {}
  }
 ]
}